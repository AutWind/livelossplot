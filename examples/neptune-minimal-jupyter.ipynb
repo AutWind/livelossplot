{
 "cells": [
  {
   "cell_type": "code",
   "execution_count": null,
   "metadata": {},
   "outputs": [],
   "source": [
    "# TO START:\n",
    "# pip install livelossplot\n",
    "# pip install neptune-cli\n",
    "# neptune account login\n",
    "# start notebook in neptune and add this .ipynb file as starting point\n",
    "# enjoy results\n",
    "\n",
    "from time import sleep\n",
    "import numpy as np\n",
    "\n",
    "from livelossplot.generic_plot import PlotLosses"
   ]
  },
  {
   "cell_type": "code",
   "execution_count": null,
   "metadata": {},
   "outputs": [],
   "source": [
    "liveplot = PlotLosses(target='neptune')\n",
    "for i in range(20):\n",
    "    liveplot.update({\n",
    "        'accuracy': 1 - np.random.rand() / (i + 2.),\n",
    "        'val_accuracy': 1 - np.random.rand() / (i + 0.5),\n",
    "        'mse': 1. / (i + 2.),\n",
    "        'val_mse': 1. / (i + 0.5)\n",
    "    })\n",
    "    liveplot.draw()\n",
    "    sleep(.5)"
   ]
  },
  {
   "cell_type": "code",
   "execution_count": null,
   "metadata": {},
   "outputs": [],
   "source": []
  }
 ],
 "metadata": {
  "kernelspec": {
   "display_name": "Python 3",
   "language": "python",
   "name": "python3"
  },
  "language_info": {
   "codemirror_mode": {
    "name": "ipython",
    "version": 3
   },
   "file_extension": ".py",
   "mimetype": "text/x-python",
   "name": "python",
   "nbconvert_exporter": "python",
   "pygments_lexer": "ipython3",
   "version": "3.5.2"
  }
 },
 "nbformat": 4,
 "nbformat_minor": 2
}
